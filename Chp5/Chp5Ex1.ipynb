{
 "cells": [
  {
   "cell_type": "code",
   "execution_count": 18,
   "metadata": {},
   "outputs": [
    {
     "name": "stdout",
     "output_type": "stream",
     "text": [
      "Enter a number. If complete please enter done. \n",
      "1-\n",
      "Please enter a numeric value or done.\n",
      "Enter a number. If complete please enter done. \n",
      "10\n",
      "Enter a number. If complete please enter done. \n",
      "16\n",
      "Enter a number. If complete please enter done. \n",
      "98\n",
      "Enter a number. If complete please enter done. \n",
      "-15\n",
      "Enter a number. If complete please enter done. \n",
      "done\n",
      "There were 4 numbers entered.\n",
      "\n",
      "The total of the numbers entered was 109.\n",
      "\n",
      "The average of the numbers entered is 27.\n",
      "\n",
      "The minimum value is -15 and the maximum is 98.\n",
      "\n",
      "The numbers entered were:\n",
      " [10.0, 16.0, 98.0, -15.0]\n"
     ]
    }
   ],
   "source": [
    "'''\n",
    "Exercise 1: Write a program which repeatedly reads numbers until the users enters \"done\" is entered, print out the\n",
    "total, count, and average of the numbers.  If the user enters anything other than a number, detect their mistake using\n",
    "try and except and print an error message and skip to the next number.\n",
    "'''\n",
    "\n",
    "margin = None\n",
    "#stored_mx = None\n",
    "#stored_mn = None\n",
    "total = 0\n",
    "count = 0\n",
    "track = []\n",
    "\n",
    "first_run = 1\n",
    "\n",
    "while margin != 'done':\n",
    "    #Asks users for a number or to end the sequence\n",
    "    margin = input(\"Enter a number. If complete please enter done. \\n\")\n",
    "    \n",
    "    #Checks to see if entered some the kill commnad for the loop.\n",
    "    if margin.lower() == 'done':\n",
    "       break\n",
    "    else:\n",
    "        try:\n",
    "            margin = float(margin)\n",
    "            \n",
    "        except ValueError:\n",
    "            print(\"Please enter a numeric value or done.\")\n",
    "\n",
    "        else:\n",
    "            #This is meant to initialize the max and min variable on the first pass\n",
    "            if first_run == 1:\n",
    "                first_run = 0\n",
    "                stored_mx = margin\n",
    "                stored_mn = margin\n",
    "       \n",
    "            count = count+1\n",
    "            total = total + margin\n",
    "            if margin > stored_mx:\n",
    "                stored_mx = margin\n",
    "            if margin < stored_mn:\n",
    "                stored_mn = margin\n",
    "            track.append(margin)\n",
    "\n",
    "avg = total/count\n",
    "print(\"There were %d numbers entered.\\n\" % count)\n",
    "print(\"The total of the numbers entered was %d.\\n\" % total)\n",
    "print(\"The average of the numbers entered is %d.\\n\" % avg)\n",
    "print(\"The minimum value is %d and the maximum is %d.\\n\" % (stored_mn, stored_mx))\n",
    "print(\"The numbers entered were:\\n\", track)"
   ]
  }
 ],
 "metadata": {
  "kernelspec": {
   "display_name": "Python 3",
   "language": "python",
   "name": "python3"
  },
  "language_info": {
   "codemirror_mode": {
    "name": "ipython",
    "version": 3
   },
   "file_extension": ".py",
   "mimetype": "text/x-python",
   "name": "python",
   "nbconvert_exporter": "python",
   "pygments_lexer": "ipython3",
   "version": "3.7.3"
  }
 },
 "nbformat": 4,
 "nbformat_minor": 2
}
