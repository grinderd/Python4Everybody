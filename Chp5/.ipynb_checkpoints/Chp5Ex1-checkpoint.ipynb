{
 "cells": [
  {
   "cell_type": "code",
   "execution_count": 1,
   "metadata": {
    "collapsed": true
   },
   "outputs": [
    {
     "data": {
      "text/plain": [
       "'\\nExercise 1: Write a program which repeatedly reads numbers until the users enters \"done\" is entered, print out the\\ntotal, count, and average of the numbers.  If the user enters anything other than a number, detect their mistake using\\ntry and except and print an error message and skip to the next number.\\n'"
      ]
     },
     "execution_count": 1,
     "metadata": {},
     "output_type": "execute_result"
    }
   ],
   "source": [
    "'''\n",
    "Exercise 1: Write a program which repeatedly reads numbers until the users enters \"done\" is entered, print out the\n",
    "total, count, and average of the numbers.  If the user enters anything other than a number, detect their mistake using\n",
    "try and except and print an error message and skip to the next number.\n",
    "'''"
   ]
  },
  {
   "cell_type": "code",
   "execution_count": 2,
   "metadata": {},
   "outputs": [],
   "source": [
    "margin = 0\n",
    "total = 0\n",
    "count = 0\n",
    "track = []"
   ]
  },
  {
   "cell_type": "code",
   "execution_count": 7,
   "metadata": {},
   "outputs": [
    {
     "name": "stdout",
     "output_type": "stream",
     "text": [
      "Enter a number. If complete please enter done. \n",
      "15\n",
      "<class 'float'>\n",
      "<class 'int'>\n",
      "Enter a number. If complete please enter done. \n",
      "17\n",
      "<class 'float'>\n",
      "<class 'float'>\n",
      "Enter a number. If complete please enter done. \n",
      "asdf\n",
      "Please enter a numeric value or done.\n",
      "Enter a number. If complete please enter done. \n",
      "16\n",
      "<class 'float'>\n",
      "<class 'float'>\n",
      "Enter a number. If complete please enter done. \n",
      "91\n",
      "<class 'float'>\n",
      "<class 'float'>\n",
      "Enter a number. If complete please enter done. \n",
      "10\n",
      "<class 'float'>\n",
      "<class 'float'>\n",
      "Enter a number. If complete please enter done. \n",
      "done\n"
     ]
    }
   ],
   "source": [
    "while margin != 'done':\n",
    "    margin = input(\"Enter a number. If complete please enter done. \\n\")\n",
    "    if margin.lower() == 'done':\n",
    "       break\n",
    "    else:\n",
    "        try:\n",
    "            margin = float(margin)\n",
    "            \n",
    "        except ValueErro6r:\n",
    "            print(\"Please enter a numeric value or done.\")\n",
    "\n",
    "        else:\n",
    "            count = count+1\n",
    "            total = total + margin\n",
    "            if margin > stored_mx:\n",
    "                stored_mx = margin\n",
    "            if margin < stored_mn:\n",
    "                stored_mn = margin"
   ]
  },
  {
   "cell_type": "code",
   "execution_count": 8,
   "metadata": {},
   "outputs": [
    {
     "name": "stdout",
     "output_type": "stream",
     "text": [
      "There were 8 numbers entered.\n",
      "The total of the numbers entered was 149.\n",
      "The average of the numbers entered is 18.\n"
     ]
    }
   ],
   "source": [
    "avg = total/count\n",
    "print(\"There were %d numbers entered.\" % count)\n",
    "print(\"The total of the numbers entered was %d.\" % total)\n",
    "print(\"The average of the numbers entered is %d.\" % avg)"
   ]
  }
 ],
 "metadata": {
  "kernelspec": {
   "display_name": "Python 3",
   "language": "python",
   "name": "python3"
  },
  "language_info": {
   "codemirror_mode": {
    "name": "ipython",
    "version": 3
   },
   "file_extension": ".py",
   "mimetype": "text/x-python",
   "name": "python",
   "nbconvert_exporter": "python",
   "pygments_lexer": "ipython3",
   "version": "3.7.3"
  }
 },
 "nbformat": 4,
 "nbformat_minor": 2
}
